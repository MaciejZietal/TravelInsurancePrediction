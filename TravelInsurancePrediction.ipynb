{
 "cells": [
  {
   "cell_type": "code",
   "execution_count": 36,
   "id": "125c51d7",
   "metadata": {},
   "outputs": [],
   "source": [
    "import pandas as pd\n",
    "import numpy as np\n",
    "import matplotlib.pyplot as plt\n",
    "import seaborn as sns\n",
    "\n",
    "from sklearn.preprocessing import MinMaxScaler\n",
    "from sklearn.model_selection import train_test_split\n",
    "from sklearn.neighbors import KNeighborsClassifier\n",
    "from sklearn.linear_model import LogisticRegression\n",
    "from sklearn.tree import DecisionTreeClassifier\n",
    "from imblearn.over_sampling import (RandomOverSampler, SMOTE, BorderlineSMOTE)\n",
    "from imblearn.under_sampling import (RandomUnderSampler, NearMiss, TomekLinks)\n",
    "from sklearn.model_selection import GridSearchCV\n",
    "\n",
    "pd.options.display.float_format = '{:,.3f}'.format"
   ]
  },
  {
   "cell_type": "code",
   "execution_count": 2,
   "id": "6544b8a1",
   "metadata": {
    "scrolled": true
   },
   "outputs": [
    {
     "data": {
      "text/html": [
       "<div>\n",
       "<style scoped>\n",
       "    .dataframe tbody tr th:only-of-type {\n",
       "        vertical-align: middle;\n",
       "    }\n",
       "\n",
       "    .dataframe tbody tr th {\n",
       "        vertical-align: top;\n",
       "    }\n",
       "\n",
       "    .dataframe thead th {\n",
       "        text-align: right;\n",
       "    }\n",
       "</style>\n",
       "<table border=\"1\" class=\"dataframe\">\n",
       "  <thead>\n",
       "    <tr style=\"text-align: right;\">\n",
       "      <th></th>\n",
       "      <th>Age</th>\n",
       "      <th>Employment.Type</th>\n",
       "      <th>GraduateOrNot</th>\n",
       "      <th>AnnualIncome</th>\n",
       "      <th>FamilyMembers</th>\n",
       "      <th>ChronicDiseases</th>\n",
       "      <th>FrequentFlyer</th>\n",
       "      <th>EverTravelledAbroad</th>\n",
       "      <th>TravelInsurance</th>\n",
       "    </tr>\n",
       "  </thead>\n",
       "  <tbody>\n",
       "    <tr>\n",
       "      <th>0</th>\n",
       "      <td>33</td>\n",
       "      <td>Private Sector/Self Employed</td>\n",
       "      <td>Yes</td>\n",
       "      <td>750000</td>\n",
       "      <td>7</td>\n",
       "      <td>1</td>\n",
       "      <td>No</td>\n",
       "      <td>No</td>\n",
       "      <td>1</td>\n",
       "    </tr>\n",
       "    <tr>\n",
       "      <th>1</th>\n",
       "      <td>29</td>\n",
       "      <td>Private Sector/Self Employed</td>\n",
       "      <td>Yes</td>\n",
       "      <td>1100000</td>\n",
       "      <td>2</td>\n",
       "      <td>0</td>\n",
       "      <td>No</td>\n",
       "      <td>No</td>\n",
       "      <td>0</td>\n",
       "    </tr>\n",
       "    <tr>\n",
       "      <th>2</th>\n",
       "      <td>31</td>\n",
       "      <td>Government Sector</td>\n",
       "      <td>Yes</td>\n",
       "      <td>1200000</td>\n",
       "      <td>3</td>\n",
       "      <td>0</td>\n",
       "      <td>No</td>\n",
       "      <td>No</td>\n",
       "      <td>0</td>\n",
       "    </tr>\n",
       "    <tr>\n",
       "      <th>3</th>\n",
       "      <td>26</td>\n",
       "      <td>Private Sector/Self Employed</td>\n",
       "      <td>Yes</td>\n",
       "      <td>500000</td>\n",
       "      <td>3</td>\n",
       "      <td>0</td>\n",
       "      <td>No</td>\n",
       "      <td>No</td>\n",
       "      <td>0</td>\n",
       "    </tr>\n",
       "    <tr>\n",
       "      <th>4</th>\n",
       "      <td>28</td>\n",
       "      <td>Private Sector/Self Employed</td>\n",
       "      <td>Yes</td>\n",
       "      <td>800000</td>\n",
       "      <td>3</td>\n",
       "      <td>0</td>\n",
       "      <td>No</td>\n",
       "      <td>No</td>\n",
       "      <td>0</td>\n",
       "    </tr>\n",
       "  </tbody>\n",
       "</table>\n",
       "</div>"
      ],
      "text/plain": [
       "   Age               Employment.Type GraduateOrNot  AnnualIncome  \\\n",
       "0   33  Private Sector/Self Employed           Yes        750000   \n",
       "1   29  Private Sector/Self Employed           Yes       1100000   \n",
       "2   31             Government Sector           Yes       1200000   \n",
       "3   26  Private Sector/Self Employed           Yes        500000   \n",
       "4   28  Private Sector/Self Employed           Yes        800000   \n",
       "\n",
       "   FamilyMembers  ChronicDiseases FrequentFlyer EverTravelledAbroad  \\\n",
       "0              7                1            No                  No   \n",
       "1              2                0            No                  No   \n",
       "2              3                0            No                  No   \n",
       "3              3                0            No                  No   \n",
       "4              3                0            No                  No   \n",
       "\n",
       "   TravelInsurance  \n",
       "0                1  \n",
       "1                0  \n",
       "2                0  \n",
       "3                0  \n",
       "4                0  "
      ]
     },
     "execution_count": 2,
     "metadata": {},
     "output_type": "execute_result"
    }
   ],
   "source": [
    "# read data\n",
    "data = pd.read_csv('TravelInsurance2.csv', sep=';')\n",
    "data.head()"
   ]
  },
  {
   "cell_type": "code",
   "execution_count": 3,
   "id": "e6f75b79",
   "metadata": {},
   "outputs": [],
   "source": [
    "mapping = {'Yes': 1,\n",
    "          'No': 0,}\n",
    "\n",
    "cols_to_map = ['GraduateOrNot', 'FrequentFlyer', 'EverTravelledAbroad']\n",
    "for col in cols_to_map:\n",
    "    data[col] = data[col].map(mapping)"
   ]
  },
  {
   "cell_type": "code",
   "execution_count": 4,
   "id": "7fed39e9",
   "metadata": {},
   "outputs": [
    {
     "name": "stdout",
     "output_type": "stream",
     "text": [
      "Liczba danych: 1000\n",
      "Liczba osob, ktore wykupily i nie wykupily ubezpieczenia: \n",
      "0    659\n",
      "1    341\n",
      "Name: TravelInsurance, dtype: int64\n"
     ]
    }
   ],
   "source": [
    "print(f\"Liczba danych: {len(data)}\")\n",
    "print(f\"Liczba osob, ktore wykupily i nie wykupily ubezpieczenia: \\n{data['TravelInsurance'].value_counts()}\")"
   ]
  },
  {
   "cell_type": "markdown",
   "id": "e6f081d0",
   "metadata": {},
   "source": [
    "## EDA"
   ]
  },
  {
   "cell_type": "code",
   "execution_count": 5,
   "id": "c05e0f0f",
   "metadata": {},
   "outputs": [],
   "source": [
    "travelinsur1 = data[data['TravelInsurance'] == 1]\n",
    "travelinsur0 = data[data['TravelInsurance'] == 0]"
   ]
  },
  {
   "cell_type": "code",
   "execution_count": 6,
   "id": "c7c86021",
   "metadata": {},
   "outputs": [
    {
     "data": {
      "image/png": "[encoded data removed]",
      "text/plain": [
       "<Figure size 648x504 with 1 Axes>"
      ]
     },
     "metadata": {
      "needs_background": "light"
     },
     "output_type": "display_data"
    }
   ],
   "source": [
    "# Age\n",
    "fig, ax = plt.subplots(figsize=(9,7))\n",
    "sns.boxplot(data=data, x='Age', y='TravelInsurance', orient='h')\n",
    "ax.set_title('Rozklad wieku ze wzgledu na zakup ubezpieczenia')\n",
    "plt.show()"
   ]
  },
  {
   "cell_type": "code",
   "execution_count": 7,
   "id": "36030d87",
   "metadata": {},
   "outputs": [
    {
     "data": {
      "text/plain": [
       "<AxesSubplot:xlabel='TravelInsurance'>"
      ]
     },
     "execution_count": 7,
     "metadata": {},
     "output_type": "execute_result"
    },
    {
     "data": {
      "image/png": "[encoded data removed]",
      "text/plain": [
       "<Figure size 504x504 with 1 Axes>"
      ]
     },
     "metadata": {
      "needs_background": "light"
     },
     "output_type": "display_data"
    }
   ],
   "source": [
    "# Employment.Type\n",
    "(data.groupby('TravelInsurance')['Employment.Type'].value_counts(normalize=True)\n",
    "   .unstack('Employment.Type').plot.bar(stacked=True, figsize=(7,7))\n",
    ")"
   ]
  },
  {
   "cell_type": "code",
   "execution_count": 8,
   "id": "a5317371",
   "metadata": {},
   "outputs": [
    {
     "data": {
      "text/plain": [
       "<AxesSubplot:xlabel='TravelInsurance'>"
      ]
     },
     "execution_count": 8,
     "metadata": {},
     "output_type": "execute_result"
    },
    {
     "data": {
      "image/png": "[encoded data removed]",
      "text/plain": [
       "<Figure size 504x504 with 1 Axes>"
      ]
     },
     "metadata": {
      "needs_background": "light"
     },
     "output_type": "display_data"
    }
   ],
   "source": [
    "# GraduateOrNot\n",
    "(data.groupby('TravelInsurance')['GraduateOrNot'].value_counts(normalize=True)\n",
    "   .unstack('GraduateOrNot').plot.bar(stacked=True, figsize=(7,7))\n",
    ")"
   ]
  },
  {
   "cell_type": "code",
   "execution_count": 9,
   "id": "65fe7261",
   "metadata": {},
   "outputs": [
    {
     "data": {
      "image/png": "[encoded data removed]",
      "text/plain": [
       "<Figure size 648x504 with 1 Axes>"
      ]
     },
     "metadata": {
      "needs_background": "light"
     },
     "output_type": "display_data"
    }
   ],
   "source": [
    "# AnnualIncome\n",
    "fig, ax = plt.subplots(figsize=(9,7))\n",
    "sns.boxplot(data=data, x='AnnualIncome', y='TravelInsurance', orient='h')\n",
    "ax.set_title('Rozklad dochodu ze wzgledu na zakup ubezpieczenia')\n",
    "plt.show()"
   ]
  },
  {
   "cell_type": "code",
   "execution_count": 10,
   "id": "0ff9670c",
   "metadata": {},
   "outputs": [
    {
     "data": {
      "image/png": "[encoded data removed]",
      "text/plain": [
       "<Figure size 648x504 with 1 Axes>"
      ]
     },
     "metadata": {
      "needs_background": "light"
     },
     "output_type": "display_data"
    }
   ],
   "source": [
    "# FamilyMembers\n",
    "fig, ax = plt.subplots(figsize=(9,7))\n",
    "sns.boxplot(data=data, x='FamilyMembers', y='TravelInsurance', orient='h')\n",
    "ax.set_title('Rozklad dochodu ze wzgledu na zakup ubezpieczenia')\n",
    "plt.show()"
   ]
  },
  {
   "cell_type": "code",
   "execution_count": 11,
   "id": "ee025919",
   "metadata": {},
   "outputs": [],
   "source": [
    "fam_members_grouped = data.groupby('TravelInsurance')['FamilyMembers'].value_counts(normalize=True)\n",
    "fam_members_grouped = fam_members_grouped.reset_index(name='Percentage')"
   ]
  },
  {
   "cell_type": "code",
   "execution_count": 12,
   "id": "e0b9dcb6",
   "metadata": {},
   "outputs": [
    {
     "data": {
      "text/plain": [
       "<AxesSubplot:xlabel='FamilyMembers', ylabel='Percentage'>"
      ]
     },
     "execution_count": 12,
     "metadata": {},
     "output_type": "execute_result"
    },
    {
     "data": {
      "image/png": "[encoded data removed]",
      "text/plain": [
       "<Figure size 648x504 with 1 Axes>"
      ]
     },
     "metadata": {
      "needs_background": "light"
     },
     "output_type": "display_data"
    }
   ],
   "source": [
    "fig, ax = plt.subplots(figsize=(9, 7))\n",
    "sns.barplot(data=fam_members_grouped, x='FamilyMembers', y='Percentage', hue='TravelInsurance')"
   ]
  },
  {
   "cell_type": "code",
   "execution_count": 13,
   "id": "c3d227a8",
   "metadata": {},
   "outputs": [
    {
     "data": {
      "text/plain": [
       "<AxesSubplot:xlabel='TravelInsurance'>"
      ]
     },
     "execution_count": 13,
     "metadata": {},
     "output_type": "execute_result"
    },
    {
     "data": {
      "image/png": "[encoded data removed]",
      "text/plain": [
       "<Figure size 504x504 with 1 Axes>"
      ]
     },
     "metadata": {
      "needs_background": "light"
     },
     "output_type": "display_data"
    }
   ],
   "source": [
    "# ChronicDiseases\n",
    "(data.groupby('TravelInsurance')['ChronicDiseases'].value_counts(normalize=True)\n",
    "   .unstack('ChronicDiseases').plot.bar(stacked=True, figsize=(7,7))\n",
    ")"
   ]
  },
  {
   "cell_type": "code",
   "execution_count": 14,
   "id": "70f3cf8a",
   "metadata": {},
   "outputs": [
    {
     "data": {
      "text/plain": [
       "<AxesSubplot:xlabel='TravelInsurance'>"
      ]
     },
     "execution_count": 14,
     "metadata": {},
     "output_type": "execute_result"
    },
    {
     "data": {
      "image/png": "[encoded data removed]",
      "text/plain": [
       "<Figure size 504x504 with 1 Axes>"
      ]
     },
     "metadata": {
      "needs_background": "light"
     },
     "output_type": "display_data"
    }
   ],
   "source": [
    "# FrequentFlyer\n",
    "(data.groupby('TravelInsurance')['FrequentFlyer'].value_counts(normalize=True)\n",
    "   .unstack('FrequentFlyer').plot.bar(stacked=True, figsize=(7,7))\n",
    ")"
   ]
  },
  {
   "cell_type": "code",
   "execution_count": 15,
   "id": "bf88c7b4",
   "metadata": {},
   "outputs": [
    {
     "data": {
      "text/plain": [
       "<AxesSubplot:xlabel='TravelInsurance'>"
      ]
     },
     "execution_count": 15,
     "metadata": {},
     "output_type": "execute_result"
    },
    {
     "data": {
      "image/png": "[encoded data removed]",
      "text/plain": [
       "<Figure size 504x504 with 1 Axes>"
      ]
     },
     "metadata": {
      "needs_background": "light"
     },
     "output_type": "display_data"
    }
   ],
   "source": [
    "# EverTravelledAbroad\n",
    "(data.groupby('TravelInsurance')['EverTravelledAbroad'].value_counts(normalize=True)\n",
    "   .unstack('EverTravelledAbroad').plot.bar(stacked=True, figsize=(7,7))\n",
    ")"
   ]
  },
  {
   "cell_type": "markdown",
   "id": "6d1f3f01",
   "metadata": {},
   "source": [
    "## Przygotowanie zmiennych"
   ]
  },
  {
   "cell_type": "code",
   "execution_count": 16,
   "id": "30302490",
   "metadata": {},
   "outputs": [],
   "source": [
    "# relevant features\n",
    "relevant_features = [\n",
    "    'Age',\n",
    "    'Employment.Type',\n",
    "    'AnnualIncome',\n",
    "    'FamilyMembers',\n",
    "    'FrequentFlyer',\n",
    "    'EverTravelledAbroad',\n",
    "    'TravelInsurance',\n",
    "]\n",
    "\n",
    "data = data[relevant_features]"
   ]
  },
  {
   "cell_type": "code",
   "execution_count": 17,
   "id": "3a4e84af",
   "metadata": {},
   "outputs": [],
   "source": [
    "data['Employment.Type'] = data['Employment.Type'].map({\n",
    "    'Private Sector/Self Employed': 1,\n",
    "    'Government Sector': 0\n",
    "})"
   ]
  },
  {
   "cell_type": "code",
   "execution_count": 18,
   "id": "5eac4dc2",
   "metadata": {},
   "outputs": [
    {
     "data": {
      "text/html": [
       "<div>\n",
       "<style scoped>\n",
       "    .dataframe tbody tr th:only-of-type {\n",
       "        vertical-align: middle;\n",
       "    }\n",
       "\n",
       "    .dataframe tbody tr th {\n",
       "        vertical-align: top;\n",
       "    }\n",
       "\n",
       "    .dataframe thead th {\n",
       "        text-align: right;\n",
       "    }\n",
       "</style>\n",
       "<table border=\"1\" class=\"dataframe\">\n",
       "  <thead>\n",
       "    <tr style=\"text-align: right;\">\n",
       "      <th></th>\n",
       "      <th>Age</th>\n",
       "      <th>Employment.Type</th>\n",
       "      <th>AnnualIncome</th>\n",
       "      <th>FamilyMembers</th>\n",
       "      <th>FrequentFlyer</th>\n",
       "      <th>EverTravelledAbroad</th>\n",
       "      <th>TravelInsurance</th>\n",
       "    </tr>\n",
       "  </thead>\n",
       "  <tbody>\n",
       "    <tr>\n",
       "      <th>0</th>\n",
       "      <td>33</td>\n",
       "      <td>1</td>\n",
       "      <td>750000</td>\n",
       "      <td>7</td>\n",
       "      <td>0</td>\n",
       "      <td>0</td>\n",
       "      <td>1</td>\n",
       "    </tr>\n",
       "    <tr>\n",
       "      <th>1</th>\n",
       "      <td>29</td>\n",
       "      <td>1</td>\n",
       "      <td>1100000</td>\n",
       "      <td>2</td>\n",
       "      <td>0</td>\n",
       "      <td>0</td>\n",
       "      <td>0</td>\n",
       "    </tr>\n",
       "    <tr>\n",
       "      <th>2</th>\n",
       "      <td>31</td>\n",
       "      <td>0</td>\n",
       "      <td>1200000</td>\n",
       "      <td>3</td>\n",
       "      <td>0</td>\n",
       "      <td>0</td>\n",
       "      <td>0</td>\n",
       "    </tr>\n",
       "    <tr>\n",
       "      <th>3</th>\n",
       "      <td>26</td>\n",
       "      <td>1</td>\n",
       "      <td>500000</td>\n",
       "      <td>3</td>\n",
       "      <td>0</td>\n",
       "      <td>0</td>\n",
       "      <td>0</td>\n",
       "    </tr>\n",
       "    <tr>\n",
       "      <th>4</th>\n",
       "      <td>28</td>\n",
       "      <td>1</td>\n",
       "      <td>800000</td>\n",
       "      <td>3</td>\n",
       "      <td>0</td>\n",
       "      <td>0</td>\n",
       "      <td>0</td>\n",
       "    </tr>\n",
       "  </tbody>\n",
       "</table>\n",
       "</div>"
      ],
      "text/plain": [
       "   Age  Employment.Type  AnnualIncome  FamilyMembers  FrequentFlyer  \\\n",
       "0   33                1        750000              7              0   \n",
       "1   29                1       1100000              2              0   \n",
       "2   31                0       1200000              3              0   \n",
       "3   26                1        500000              3              0   \n",
       "4   28                1        800000              3              0   \n",
       "\n",
       "   EverTravelledAbroad  TravelInsurance  \n",
       "0                    0                1  \n",
       "1                    0                0  \n",
       "2                    0                0  \n",
       "3                    0                0  \n",
       "4                    0                0  "
      ]
     },
     "execution_count": 18,
     "metadata": {},
     "output_type": "execute_result"
    }
   ],
   "source": [
    "data.head()"
   ]
  },
  {
   "cell_type": "code",
   "execution_count": 21,
   "id": "1a313fa3",
   "metadata": {},
   "outputs": [],
   "source": [
    "# podzial na zbior uczacy i testowy\n",
    "X = data.drop('TravelInsurance', axis=1)\n",
    "y = data['TravelInsurance']\n",
    "\n",
    "X_train, X_test, y_train, y_test = train_test_split(X, y, train_size=0.2, random_state=42)"
   ]
  },
  {
   "cell_type": "code",
   "execution_count": 26,
   "id": "d9452505",
   "metadata": {},
   "outputs": [],
   "source": [
    "# skalowanie danych\n",
    "scaler = MinMaxScaler()\n",
    "X_train = pd.DataFrame(scaler.fit_transform(X_train))\n",
    "X_train.columns = X.columns\n",
    "X_test = pd.DataFrame(scaler.fit_transform(X_test))\n",
    "X_train.columns = X.columns"
   ]
  },
  {
   "cell_type": "markdown",
   "id": "cf895abb",
   "metadata": {},
   "source": [
    "## Tworzenie modeli"
   ]
  },
  {
   "cell_type": "code",
   "execution_count": 31,
   "id": "0579fa4f",
   "metadata": {},
   "outputs": [],
   "source": [
    "sampling_methods = [\n",
    "    None,\n",
    "    RandomOverSampler(random_state=42),\n",
    "    SMOTE(random_state=42),\n",
    "    BorderlineSMOTE(random_state=42),\n",
    "    RandomUnderSampler(random_state=42),\n",
    "    NearMiss(version=3),\n",
    "    TomekLinks()\n",
    "]"
   ]
  },
  {
   "cell_type": "code",
   "execution_count": 38,
   "id": "a3db08b9",
   "metadata": {},
   "outputs": [],
   "source": [
    "# KNeighborsClassifier\n",
    "for sampler in sampling_methods:\n",
    "    if sampler==None:\n",
    "        X_train_res, y_train_res = X_train.copy(), y_train.copy()\n",
    "    else:\n",
    "        X_train_res, y_train_res = sampler.fit_resample(X_train, y_train)\n",
    "        \n",
    "        grid_param = {\n",
    "            'n_neighbors': [3, 5, 7, 10, 15],\n",
    "            'algorithm': ['auto', 'ball_tree', 'kd_tree', 'brute',],\n",
    "            'metric': ['cosine', 'euclidean', 'l1', 'l2', 'manhattan'],\n",
    "        }\n",
    "        \n",
    "        clf = KNeighborsClassifier()\n",
    "        GridSearchCV(estimator=clf, param_grid=grid_param, cv=5)"
   ]
  },
  {
   "cell_type": "code",
   "execution_count": null,
   "id": "339d03ea",
   "metadata": {},
   "outputs": [],
   "source": []
  }
 ],
 "metadata": {
  "kernelspec": {
   "display_name": "Python 3 (ipykernel)",
   "language": "python",
   "name": "python3"
  },
  "language_info": {
   "codemirror_mode": {
    "name": "ipython",
    "version": 3
   },
   "file_extension": ".py",
   "mimetype": "text/x-python",
   "name": "python",
   "nbconvert_exporter": "python",
   "pygments_lexer": "ipython3",
   "version": "3.9.12"
  }
 },
 "nbformat": 4,
 "nbformat_minor": 5
}
