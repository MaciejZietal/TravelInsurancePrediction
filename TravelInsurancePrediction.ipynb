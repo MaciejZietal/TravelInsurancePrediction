{
 "cells": [
  {
   "cell_type": "code",
   "execution_count": 1,
   "id": "125c51d7",
   "metadata": {},
   "outputs": [],
   "source": [
    "import pandas as pd\n",
    "import numpy as np\n",
    "import matplotlib.pyplot as plt\n",
    "import seaborn as sns\n",
    "import warnings\n",
    "\n",
    "from sklearn.preprocessing import MinMaxScaler\n",
    "from sklearn.model_selection import train_test_split\n",
    "from sklearn.neighbors import KNeighborsClassifier\n",
    "from sklearn.linear_model import LogisticRegression\n",
    "from sklearn.discriminant_analysis import QuadraticDiscriminantAnalysis\n",
    "from sklearn.tree import DecisionTreeClassifier\n",
    "from imblearn.over_sampling import (RandomOverSampler, SMOTE, BorderlineSMOTE)\n",
    "from imblearn.under_sampling import (RandomUnderSampler, NearMiss, TomekLinks)\n",
    "from sklearn.model_selection import GridSearchCV\n",
    "\n",
    "from sklearn.metrics import accuracy_score, f1_score, precision_score, recall_score, confusion_matrix\n",
    "\n",
    "pd.options.display.float_format = '{:,.3f}'.format\n",
    "warnings.filterwarnings('ignore')"
   ]
  },
  {
   "cell_type": "code",
   "execution_count": 2,
   "id": "6544b8a1",
   "metadata": {
    "scrolled": true
   },
   "outputs": [
    {
     "data": {
      "text/html": [
       "<div>\n",
       "<style scoped>\n",
       "    .dataframe tbody tr th:only-of-type {\n",
       "        vertical-align: middle;\n",
       "    }\n",
       "\n",
       "    .dataframe tbody tr th {\n",
       "        vertical-align: top;\n",
       "    }\n",
       "\n",
       "    .dataframe thead th {\n",
       "        text-align: right;\n",
       "    }\n",
       "</style>\n",
       "<table border=\"1\" class=\"dataframe\">\n",
       "  <thead>\n",
       "    <tr style=\"text-align: right;\">\n",
       "      <th></th>\n",
       "      <th>Age</th>\n",
       "      <th>Employment.Type</th>\n",
       "      <th>GraduateOrNot</th>\n",
       "      <th>AnnualIncome</th>\n",
       "      <th>FamilyMembers</th>\n",
       "      <th>ChronicDiseases</th>\n",
       "      <th>FrequentFlyer</th>\n",
       "      <th>EverTravelledAbroad</th>\n",
       "      <th>TravelInsurance</th>\n",
       "    </tr>\n",
       "  </thead>\n",
       "  <tbody>\n",
       "    <tr>\n",
       "      <th>0</th>\n",
       "      <td>33</td>\n",
       "      <td>Private Sector/Self Employed</td>\n",
       "      <td>Yes</td>\n",
       "      <td>750000</td>\n",
       "      <td>7</td>\n",
       "      <td>1</td>\n",
       "      <td>No</td>\n",
       "      <td>No</td>\n",
       "      <td>1</td>\n",
       "    </tr>\n",
       "    <tr>\n",
       "      <th>1</th>\n",
       "      <td>29</td>\n",
       "      <td>Private Sector/Self Employed</td>\n",
       "      <td>Yes</td>\n",
       "      <td>1100000</td>\n",
       "      <td>2</td>\n",
       "      <td>0</td>\n",
       "      <td>No</td>\n",
       "      <td>No</td>\n",
       "      <td>0</td>\n",
       "    </tr>\n",
       "    <tr>\n",
       "      <th>2</th>\n",
       "      <td>31</td>\n",
       "      <td>Government Sector</td>\n",
       "      <td>Yes</td>\n",
       "      <td>1200000</td>\n",
       "      <td>3</td>\n",
       "      <td>0</td>\n",
       "      <td>No</td>\n",
       "      <td>No</td>\n",
       "      <td>0</td>\n",
       "    </tr>\n",
       "    <tr>\n",
       "      <th>3</th>\n",
       "      <td>26</td>\n",
       "      <td>Private Sector/Self Employed</td>\n",
       "      <td>Yes</td>\n",
       "      <td>500000</td>\n",
       "      <td>3</td>\n",
       "      <td>0</td>\n",
       "      <td>No</td>\n",
       "      <td>No</td>\n",
       "      <td>0</td>\n",
       "    </tr>\n",
       "    <tr>\n",
       "      <th>4</th>\n",
       "      <td>28</td>\n",
       "      <td>Private Sector/Self Employed</td>\n",
       "      <td>Yes</td>\n",
       "      <td>800000</td>\n",
       "      <td>3</td>\n",
       "      <td>0</td>\n",
       "      <td>No</td>\n",
       "      <td>No</td>\n",
       "      <td>0</td>\n",
       "    </tr>\n",
       "  </tbody>\n",
       "</table>\n",
       "</div>"
      ],
      "text/plain": [
       "   Age               Employment.Type GraduateOrNot  AnnualIncome  \\\n",
       "0   33  Private Sector/Self Employed           Yes        750000   \n",
       "1   29  Private Sector/Self Employed           Yes       1100000   \n",
       "2   31             Government Sector           Yes       1200000   \n",
       "3   26  Private Sector/Self Employed           Yes        500000   \n",
       "4   28  Private Sector/Self Employed           Yes        800000   \n",
       "\n",
       "   FamilyMembers  ChronicDiseases FrequentFlyer EverTravelledAbroad  \\\n",
       "0              7                1            No                  No   \n",
       "1              2                0            No                  No   \n",
       "2              3                0            No                  No   \n",
       "3              3                0            No                  No   \n",
       "4              3                0            No                  No   \n",
       "\n",
       "   TravelInsurance  \n",
       "0                1  \n",
       "1                0  \n",
       "2                0  \n",
       "3                0  \n",
       "4                0  "
      ]
     },
     "execution_count": 2,
     "metadata": {},
     "output_type": "execute_result"
    }
   ],
   "source": [
    "# read data\n",
    "data = pd.read_csv('TravelInsurance2.csv', sep=';')\n",
    "data.head()"
   ]
  },
  {
   "cell_type": "code",
   "execution_count": 3,
   "id": "e6f75b79",
   "metadata": {},
   "outputs": [],
   "source": [
    "mapping = {'Yes': 1,\n",
    "          'No': 0,}\n",
    "\n",
    "cols_to_map = ['GraduateOrNot', 'FrequentFlyer', 'EverTravelledAbroad']\n",
    "for col in cols_to_map:\n",
    "    data[col] = data[col].map(mapping)"
   ]
  },
  {
   "cell_type": "code",
   "execution_count": 4,
   "id": "7fed39e9",
   "metadata": {},
   "outputs": [
    {
     "name": "stdout",
     "output_type": "stream",
     "text": [
      "Liczba danych: 1000\n",
      "Liczba osob, ktore wykupily i nie wykupily ubezpieczenia: \n",
      "0    659\n",
      "1    341\n",
      "Name: TravelInsurance, dtype: int64\n"
     ]
    }
   ],
   "source": [
    "print(f\"Liczba danych: {len(data)}\")\n",
    "print(f\"Liczba osob, ktore wykupily i nie wykupily ubezpieczenia: \\n{data['TravelInsurance'].value_counts()}\")"
   ]
  },
  {
   "cell_type": "markdown",
   "id": "e6f081d0",
   "metadata": {},
   "source": [
    "## EDA"
   ]
  },
  {
   "cell_type": "code",
   "execution_count": 5,
   "id": "c05e0f0f",
   "metadata": {},
   "outputs": [],
   "source": [
    "travelinsur1 = data[data['TravelInsurance'] == 1]\n",
    "travelinsur0 = data[data['TravelInsurance'] == 0]"
   ]
  },
  {
   "cell_type": "code",
   "execution_count": 6,
   "id": "c7c86021",
   "metadata": {},
   "outputs": [
    {
     "data": {
      "image/png": "[encoded data removed]",
      "text/plain": [
       "<Figure size 648x504 with 1 Axes>"
      ]
     },
     "metadata": {
      "needs_background": "light"
     },
     "output_type": "display_data"
    }
   ],
   "source": [
    "# Age\n",
    "fig, ax = plt.subplots(figsize=(9,7))\n",
    "sns.boxplot(data=data, x='Age', y='TravelInsurance', orient='h')\n",
    "ax.set_title('Rozklad wieku ze wzgledu na zakup ubezpieczenia')\n",
    "plt.show()"
   ]
  },
  {
   "cell_type": "code",
   "execution_count": 7,
   "id": "36030d87",
   "metadata": {},
   "outputs": [
    {
     "data": {
      "text/plain": [
       "<AxesSubplot:xlabel='TravelInsurance'>"
      ]
     },
     "execution_count": 7,
     "metadata": {},
     "output_type": "execute_result"
    },
    {
     "data": {
      "image/png": "[encoded data removed]",
      "text/plain": [
       "<Figure size 504x504 with 1 Axes>"
      ]
     },
     "metadata": {
      "needs_background": "light"
     },
     "output_type": "display_data"
    }
   ],
   "source": [
    "# Employment.Type\n",
    "(data.groupby('TravelInsurance')['Employment.Type'].value_counts(normalize=True)\n",
    "   .unstack('Employment.Type').plot.bar(stacked=True, figsize=(7,7))\n",
    ")"
   ]
  },
  {
   "cell_type": "code",
   "execution_count": 8,
   "id": "a5317371",
   "metadata": {},
   "outputs": [
    {
     "data": {
      "text/plain": [
       "<AxesSubplot:xlabel='TravelInsurance'>"
      ]
     },
     "execution_count": 8,
     "metadata": {},
     "output_type": "execute_result"
    },
    {
     "data": {
      "image/png": "[encoded data removed]",
      "text/plain": [
       "<Figure size 504x504 with 1 Axes>"
      ]
     },
     "metadata": {
      "needs_background": "light"
     },
     "output_type": "display_data"
    }
   ],
   "source": [
    "# GraduateOrNot\n",
    "(data.groupby('TravelInsurance')['GraduateOrNot'].value_counts(normalize=True)\n",
    "   .unstack('GraduateOrNot').plot.bar(stacked=True, figsize=(7,7))\n",
    ")"
   ]
  },
  {
   "cell_type": "code",
   "execution_count": 9,
   "id": "65fe7261",
   "metadata": {},
   "outputs": [
    {
     "data": {
      "image/png": "[encoded data removed]",
      "text/plain": [
       "<Figure size 648x504 with 1 Axes>"
      ]
     },
     "metadata": {
      "needs_background": "light"
     },
     "output_type": "display_data"
    }
   ],
   "source": [
    "# AnnualIncome\n",
    "fig, ax = plt.subplots(figsize=(9,7))\n",
    "sns.boxplot(data=data, x='AnnualIncome', y='TravelInsurance', orient='h')\n",
    "ax.set_title('Rozklad dochodu ze wzgledu na zakup ubezpieczenia')\n",
    "plt.show()"
   ]
  },
  {
   "cell_type": "code",
   "execution_count": 10,
   "id": "0ff9670c",
   "metadata": {},
   "outputs": [
    {
     "data": {
      "image/png": "[encoded data removed]",
      "text/plain": [
       "<Figure size 648x504 with 1 Axes>"
      ]
     },
     "metadata": {
      "needs_background": "light"
     },
     "output_type": "display_data"
    }
   ],
   "source": [
    "# FamilyMembers\n",
    "fig, ax = plt.subplots(figsize=(9,7))\n",
    "sns.boxplot(data=data, x='FamilyMembers', y='TravelInsurance', orient='h')\n",
    "ax.set_title('Rozklad dochodu ze wzgledu na zakup ubezpieczenia')\n",
    "plt.show()"
   ]
  },
  {
   "cell_type": "code",
   "execution_count": 11,
   "id": "ee025919",
   "metadata": {},
   "outputs": [],
   "source": [
    "fam_members_grouped = data.groupby('TravelInsurance')['FamilyMembers'].value_counts(normalize=True)\n",
    "fam_members_grouped = fam_members_grouped.reset_index(name='Percentage')"
   ]
  },
  {
   "cell_type": "code",
   "execution_count": 12,
   "id": "e0b9dcb6",
   "metadata": {},
   "outputs": [
    {
     "data": {
      "text/plain": [
       "<AxesSubplot:xlabel='FamilyMembers', ylabel='Percentage'>"
      ]
     },
     "execution_count": 12,
     "metadata": {},
     "output_type": "execute_result"
    },
    {
     "data": {
      "image/png": "[encoded data removed]",
      "text/plain": [
       "<Figure size 648x504 with 1 Axes>"
      ]
     },
     "metadata": {
      "needs_background": "light"
     },
     "output_type": "display_data"
    }
   ],
   "source": [
    "fig, ax = plt.subplots(figsize=(9, 7))\n",
    "sns.barplot(data=fam_members_grouped, x='FamilyMembers', y='Percentage', hue='TravelInsurance')"
   ]
  },
  {
   "cell_type": "code",
   "execution_count": 13,
   "id": "c3d227a8",
   "metadata": {},
   "outputs": [
    {
     "data": {
      "text/plain": [
       "<AxesSubplot:xlabel='TravelInsurance'>"
      ]
     },
     "execution_count": 13,
     "metadata": {},
     "output_type": "execute_result"
    },
    {
     "data": {
      "image/png": "[encoded data removed]",
      "text/plain": [
       "<Figure size 504x504 with 1 Axes>"
      ]
     },
     "metadata": {
      "needs_background": "light"
     },
     "output_type": "display_data"
    }
   ],
   "source": [
    "# ChronicDiseases\n",
    "(data.groupby('TravelInsurance')['ChronicDiseases'].value_counts(normalize=True)\n",
    "   .unstack('ChronicDiseases').plot.bar(stacked=True, figsize=(7,7))\n",
    ")"
   ]
  },
  {
   "cell_type": "code",
   "execution_count": 14,
   "id": "70f3cf8a",
   "metadata": {},
   "outputs": [
    {
     "data": {
      "text/plain": [
       "<AxesSubplot:xlabel='TravelInsurance'>"
      ]
     },
     "execution_count": 14,
     "metadata": {},
     "output_type": "execute_result"
    },
    {
     "data": {
      "image/png": "[encoded data removed]",
      "text/plain": [
       "<Figure size 504x504 with 1 Axes>"
      ]
     },
     "metadata": {
      "needs_background": "light"
     },
     "output_type": "display_data"
    }
   ],
   "source": [
    "# FrequentFlyer\n",
    "(data.groupby('TravelInsurance')['FrequentFlyer'].value_counts(normalize=True)\n",
    "   .unstack('FrequentFlyer').plot.bar(stacked=True, figsize=(7,7))\n",
    ")"
   ]
  },
  {
   "cell_type": "code",
   "execution_count": 15,
   "id": "bf88c7b4",
   "metadata": {},
   "outputs": [
    {
     "data": {
      "text/plain": [
       "<AxesSubplot:xlabel='TravelInsurance'>"
      ]
     },
     "execution_count": 15,
     "metadata": {},
     "output_type": "execute_result"
    },
    {
     "data": {
      "image/png": "[encoded data removed]",
      "text/plain": [
       "<Figure size 504x504 with 1 Axes>"
      ]
     },
     "metadata": {
      "needs_background": "light"
     },
     "output_type": "display_data"
    }
   ],
   "source": [
    "# EverTravelledAbroad\n",
    "(data.groupby('TravelInsurance')['EverTravelledAbroad'].value_counts(normalize=True)\n",
    "   .unstack('EverTravelledAbroad').plot.bar(stacked=True, figsize=(7,7))\n",
    ")"
   ]
  },
  {
   "cell_type": "markdown",
   "id": "6d1f3f01",
   "metadata": {},
   "source": [
    "## Feature preparation"
   ]
  },
  {
   "cell_type": "code",
   "execution_count": 16,
   "id": "30302490",
   "metadata": {},
   "outputs": [],
   "source": [
    "# relevant features\n",
    "relevant_features = [\n",
    "    'Age',\n",
    "    'Employment.Type',\n",
    "    'AnnualIncome',\n",
    "    'FamilyMembers',\n",
    "    'FrequentFlyer',\n",
    "    'EverTravelledAbroad',\n",
    "    'TravelInsurance',\n",
    "]\n",
    "\n",
    "data = data[relevant_features]"
   ]
  },
  {
   "cell_type": "code",
   "execution_count": 17,
   "id": "3a4e84af",
   "metadata": {},
   "outputs": [],
   "source": [
    "data['Employment.Type'] = data['Employment.Type'].map({\n",
    "    'Private Sector/Self Employed': 1,\n",
    "    'Government Sector': 0\n",
    "})"
   ]
  },
  {
   "cell_type": "code",
   "execution_count": 18,
   "id": "5eac4dc2",
   "metadata": {},
   "outputs": [
    {
     "data": {
      "text/html": [
       "<div>\n",
       "<style scoped>\n",
       "    .dataframe tbody tr th:only-of-type {\n",
       "        vertical-align: middle;\n",
       "    }\n",
       "\n",
       "    .dataframe tbody tr th {\n",
       "        vertical-align: top;\n",
       "    }\n",
       "\n",
       "    .dataframe thead th {\n",
       "        text-align: right;\n",
       "    }\n",
       "</style>\n",
       "<table border=\"1\" class=\"dataframe\">\n",
       "  <thead>\n",
       "    <tr style=\"text-align: right;\">\n",
       "      <th></th>\n",
       "      <th>Age</th>\n",
       "      <th>Employment.Type</th>\n",
       "      <th>AnnualIncome</th>\n",
       "      <th>FamilyMembers</th>\n",
       "      <th>FrequentFlyer</th>\n",
       "      <th>EverTravelledAbroad</th>\n",
       "      <th>TravelInsurance</th>\n",
       "    </tr>\n",
       "  </thead>\n",
       "  <tbody>\n",
       "    <tr>\n",
       "      <th>0</th>\n",
       "      <td>33</td>\n",
       "      <td>1</td>\n",
       "      <td>750000</td>\n",
       "      <td>7</td>\n",
       "      <td>0</td>\n",
       "      <td>0</td>\n",
       "      <td>1</td>\n",
       "    </tr>\n",
       "    <tr>\n",
       "      <th>1</th>\n",
       "      <td>29</td>\n",
       "      <td>1</td>\n",
       "      <td>1100000</td>\n",
       "      <td>2</td>\n",
       "      <td>0</td>\n",
       "      <td>0</td>\n",
       "      <td>0</td>\n",
       "    </tr>\n",
       "    <tr>\n",
       "      <th>2</th>\n",
       "      <td>31</td>\n",
       "      <td>0</td>\n",
       "      <td>1200000</td>\n",
       "      <td>3</td>\n",
       "      <td>0</td>\n",
       "      <td>0</td>\n",
       "      <td>0</td>\n",
       "    </tr>\n",
       "    <tr>\n",
       "      <th>3</th>\n",
       "      <td>26</td>\n",
       "      <td>1</td>\n",
       "      <td>500000</td>\n",
       "      <td>3</td>\n",
       "      <td>0</td>\n",
       "      <td>0</td>\n",
       "      <td>0</td>\n",
       "    </tr>\n",
       "    <tr>\n",
       "      <th>4</th>\n",
       "      <td>28</td>\n",
       "      <td>1</td>\n",
       "      <td>800000</td>\n",
       "      <td>3</td>\n",
       "      <td>0</td>\n",
       "      <td>0</td>\n",
       "      <td>0</td>\n",
       "    </tr>\n",
       "  </tbody>\n",
       "</table>\n",
       "</div>"
      ],
      "text/plain": [
       "   Age  Employment.Type  AnnualIncome  FamilyMembers  FrequentFlyer  \\\n",
       "0   33                1        750000              7              0   \n",
       "1   29                1       1100000              2              0   \n",
       "2   31                0       1200000              3              0   \n",
       "3   26                1        500000              3              0   \n",
       "4   28                1        800000              3              0   \n",
       "\n",
       "   EverTravelledAbroad  TravelInsurance  \n",
       "0                    0                1  \n",
       "1                    0                0  \n",
       "2                    0                0  \n",
       "3                    0                0  \n",
       "4                    0                0  "
      ]
     },
     "execution_count": 18,
     "metadata": {},
     "output_type": "execute_result"
    }
   ],
   "source": [
    "data.head()"
   ]
  },
  {
   "cell_type": "code",
   "execution_count": 19,
   "id": "1a313fa3",
   "metadata": {},
   "outputs": [],
   "source": [
    "# train test split\n",
    "X = data.drop('TravelInsurance', axis=1)\n",
    "y = data['TravelInsurance']\n",
    "\n",
    "X_train, X_test, y_train, y_test = train_test_split(X, y, train_size=0.2, random_state=42)"
   ]
  },
  {
   "cell_type": "code",
   "execution_count": 20,
   "id": "d9452505",
   "metadata": {},
   "outputs": [],
   "source": [
    "# scale data\n",
    "scaler = MinMaxScaler()\n",
    "X_train = pd.DataFrame(scaler.fit_transform(X_train))\n",
    "X_train.columns = X.columns\n",
    "X_test = pd.DataFrame(scaler.fit_transform(X_test))\n",
    "X_train.columns = X.columns"
   ]
  },
  {
   "cell_type": "markdown",
   "id": "cf895abb",
   "metadata": {},
   "source": [
    "## Model creation"
   ]
  },
  {
   "cell_type": "code",
   "execution_count": 21,
   "id": "0579fa4f",
   "metadata": {},
   "outputs": [],
   "source": [
    "# list with sampling methods\n",
    "sampling_methods = [\n",
    "    None,\n",
    "    RandomOverSampler(random_state=42),\n",
    "    SMOTE(random_state=42),\n",
    "    BorderlineSMOTE(random_state=42),\n",
    "    RandomUnderSampler(random_state=42),\n",
    "    NearMiss(version=3),\n",
    "    TomekLinks()\n",
    "]"
   ]
  },
  {
   "cell_type": "code",
   "execution_count": 22,
   "id": "9c23176e",
   "metadata": {},
   "outputs": [],
   "source": [
    "# function to calculate metrics\n",
    "def calculate_metrics(y_test, y_pred):\n",
    "    \n",
    "    accuracy = accuracy_score(y_test, y_pred)\n",
    "    f1 = f1_score(y_test, y_pred)\n",
    "    precision = precision_score(y_test, y_pred)\n",
    "    recall = recall_score(y_test, y_pred)\n",
    "    \n",
    "    return accuracy, f1, precision, recall\n",
    "\n",
    "# function to plot confusion matrix\n",
    "def plot_cf(y_test, y_pred):\n",
    "    cm = confusion_matrix(y_test, y_pred)\n",
    "    \n",
    "    fig, ax = plt.subplots(figsize=(5.5, 4))\n",
    "    sns.heatmap(cm, annot=True, cmap='Blues', fmt=\".0f\")\n",
    "    ax.set_xlabel('Predicted label')\n",
    "    ax.set_ylabel('Real label')\n",
    "    plt.show()"
   ]
  },
  {
   "cell_type": "code",
   "execution_count": 23,
   "id": "becc8711",
   "metadata": {},
   "outputs": [],
   "source": [
    "# lists to store results\n",
    "model_list = []\n",
    "sampling_list = []\n",
    "accuracy_list = []\n",
    "f1_list = []\n",
    "precision_list = []\n",
    "recall_list = []"
   ]
  },
  {
   "cell_type": "code",
   "execution_count": 24,
   "id": "a3db08b9",
   "metadata": {
    "scrolled": true
   },
   "outputs": [
    {
     "name": "stdout",
     "output_type": "stream",
     "text": [
      "Sampling method: None\n",
      "Accuracy: 0.787\n",
      "F1: 0.640\n",
      "Precision: 0.786\n",
      "Recall: 0.539\n"
     ]
    },
    {
     "data": {
      "image/png": "[encoded data removed]",
      "text/plain": [
       "<Figure size 396x288 with 2 Axes>"
      ]
     },
     "metadata": {
      "needs_background": "light"
     },
     "output_type": "display_data"
    },
    {
     "name": "stdout",
     "output_type": "stream",
     "text": [
      "Sampling method: RandomOverSampler\n",
      "Accuracy: 0.691\n",
      "F1: 0.582\n",
      "Precision: 0.553\n",
      "Recall: 0.614\n"
     ]
    },
    {
     "data": {
      "image/png": "[encoded data removed]",
      "text/plain": [
       "<Figure size 396x288 with 2 Axes>"
      ]
     },
     "metadata": {
      "needs_background": "light"
     },
     "output_type": "display_data"
    },
    {
     "name": "stdout",
     "output_type": "stream",
     "text": [
      "Sampling method: SMOTE\n",
      "Accuracy: 0.724\n",
      "F1: 0.632\n",
      "Precision: 0.592\n",
      "Recall: 0.679\n"
     ]
    },
    {
     "data": {
      "image/png": "[encoded data removed]",
      "text/plain": [
       "<Figure size 396x288 with 2 Axes>"
      ]
     },
     "metadata": {
      "needs_background": "light"
     },
     "output_type": "display_data"
    },
    {
     "name": "stdout",
     "output_type": "stream",
     "text": [
      "Sampling method: BorderlineSMOTE\n",
      "Accuracy: 0.698\n",
      "F1: 0.578\n",
      "Precision: 0.565\n",
      "Recall: 0.593\n"
     ]
    },
    {
     "data": {
      "image/png": "[encoded data removed]",
      "text/plain": [
       "<Figure size 396x288 with 2 Axes>"
      ]
     },
     "metadata": {
      "needs_background": "light"
     },
     "output_type": "display_data"
    },
    {
     "name": "stdout",
     "output_type": "stream",
     "text": [
      "Sampling method: RandomUnderSampler\n",
      "Accuracy: 0.751\n",
      "F1: 0.638\n",
      "Precision: 0.651\n",
      "Recall: 0.625\n"
     ]
    },
    {
     "data": {
      "image/png": "[encoded data removed]",
      "text/plain": [
       "<Figure size 396x288 with 2 Axes>"
      ]
     },
     "metadata": {
      "needs_background": "light"
     },
     "output_type": "display_data"
    },
    {
     "name": "stdout",
     "output_type": "stream",
     "text": [
      "Sampling method: NearMiss\n",
      "Accuracy: 0.711\n",
      "F1: 0.544\n",
      "Precision: 0.608\n",
      "Recall: 0.493\n"
     ]
    },
    {
     "data": {
      "image/png": "[encoded data removed]",
      "text/plain": [
       "<Figure size 396x288 with 2 Axes>"
      ]
     },
     "metadata": {
      "needs_background": "light"
     },
     "output_type": "display_data"
    },
    {
     "name": "stdout",
     "output_type": "stream",
     "text": [
      "Sampling method: TomekLinks\n",
      "Accuracy: 0.750\n",
      "F1: 0.595\n",
      "Precision: 0.687\n",
      "Recall: 0.525\n"
     ]
    },
    {
     "data": {
      "image/png": "[encoded data removed]",
      "text/plain": [
       "<Figure size 396x288 with 2 Axes>"
      ]
     },
     "metadata": {
      "needs_background": "light"
     },
     "output_type": "display_data"
    }
   ],
   "source": [
    "# KNeighborsClassifier\n",
    "for sampler in sampling_methods:\n",
    "    # sample\n",
    "    if sampler == None:\n",
    "        X_train_res, y_train_res = X_train.copy(), y_train.copy()\n",
    "    else:\n",
    "        X_train_res, y_train_res = sampler.fit_resample(X_train, y_train)\n",
    "        \n",
    "    grid_param = {\n",
    "            'n_neighbors': [3, 5, 7, 10, 15],\n",
    "            'algorithm': ['auto', 'ball_tree', 'kd_tree', 'brute',],\n",
    "            'metric': ['cosine', 'euclidean', 'l1', 'l2', 'manhattan'],\n",
    "    }\n",
    "    \n",
    "    # create classifier\n",
    "    clf = KNeighborsClassifier()\n",
    "    gs = GridSearchCV(estimator=clf, param_grid=grid_param, cv=5)\n",
    "    gs.fit(X_train_res, y_train_res)\n",
    "    \n",
    "    # predict\n",
    "    y_pred = gs.predict(X_test)\n",
    "    \n",
    "    accuracy, f1, precision, recall = calculate_metrics(y_test, y_pred)\n",
    "    if sampler == None:\n",
    "        print(\"Sampling method: None\")\n",
    "    else:\n",
    "        print(f\"Sampling method: {sampler.__class__.__name__}\")\n",
    "    \n",
    "    print(f\"Accuracy: {accuracy:.3f}\")\n",
    "    print(f\"F1: {f1:.3f}\")\n",
    "    print(f\"Precision: {precision:.3f}\")\n",
    "    print(f\"Recall: {recall:.3f}\")\n",
    "    plot_cf(y_test, y_pred)\n",
    "    \n",
    "    # store results\n",
    "    model_list.append('KNN')\n",
    "    sampling_list.append(sampler.__class__.__name__)\n",
    "    accuracy_list.append(accuracy)\n",
    "    f1_list.append(f1)\n",
    "    precision_list.append(precision)\n",
    "    recall_list.append(recall)"
   ]
  },
  {
   "cell_type": "code",
   "execution_count": 25,
   "id": "cb386436",
   "metadata": {},
   "outputs": [
    {
     "name": "stdout",
     "output_type": "stream",
     "text": [
      "Sampling method: None\n",
      "Accuracy: 0.766\n",
      "F1: 0.625\n",
      "Precision: 0.712\n",
      "Recall: 0.557\n"
     ]
    },
    {
     "data": {
      "image/png": "[encoded data removed]",
      "text/plain": [
       "<Figure size 396x288 with 2 Axes>"
      ]
     },
     "metadata": {
      "needs_background": "light"
     },
     "output_type": "display_data"
    },
    {
     "name": "stdout",
     "output_type": "stream",
     "text": [
      "Sampling method: RandomOverSampler\n",
      "Accuracy: 0.714\n",
      "F1: 0.624\n",
      "Precision: 0.578\n",
      "Recall: 0.679\n"
     ]
    },
    {
     "data": {
      "image/png": "[encoded data removed]",
      "text/plain": [
       "<Figure size 396x288 with 2 Axes>"
      ]
     },
     "metadata": {
      "needs_background": "light"
     },
     "output_type": "display_data"
    },
    {
     "name": "stdout",
     "output_type": "stream",
     "text": [
      "Sampling method: SMOTE\n",
      "Accuracy: 0.719\n",
      "F1: 0.640\n",
      "Precision: 0.580\n",
      "Recall: 0.714\n"
     ]
    },
    {
     "data": {
      "image/png": "[encoded data removed]",
      "text/plain": [
       "<Figure size 396x288 with 2 Axes>"
      ]
     },
     "metadata": {
      "needs_background": "light"
     },
     "output_type": "display_data"
    },
    {
     "name": "stdout",
     "output_type": "stream",
     "text": [
      "Sampling method: BorderlineSMOTE\n",
      "Accuracy: 0.646\n",
      "F1: 0.573\n",
      "Precision: 0.496\n",
      "Recall: 0.679\n"
     ]
    },
    {
     "data": {
      "image/png": "[encoded data removed]",
      "text/plain": [
       "<Figure size 396x288 with 2 Axes>"
      ]
     },
     "metadata": {
      "needs_background": "light"
     },
     "output_type": "display_data"
    },
    {
     "name": "stdout",
     "output_type": "stream",
     "text": [
      "Sampling method: RandomUnderSampler\n",
      "Accuracy: 0.694\n",
      "F1: 0.587\n",
      "Precision: 0.556\n",
      "Recall: 0.621\n"
     ]
    },
    {
     "data": {
      "image/png": "[encoded data removed]",
      "text/plain": [
       "<Figure size 396x288 with 2 Axes>"
      ]
     },
     "metadata": {
      "needs_background": "light"
     },
     "output_type": "display_data"
    },
    {
     "name": "stdout",
     "output_type": "stream",
     "text": [
      "Sampling method: NearMiss\n",
      "Accuracy: 0.685\n",
      "F1: 0.599\n",
      "Precision: 0.540\n",
      "Recall: 0.671\n"
     ]
    },
    {
     "data": {
      "image/png": "[encoded data removed]",
      "text/plain": [
       "<Figure size 396x288 with 2 Axes>"
      ]
     },
     "metadata": {
      "needs_background": "light"
     },
     "output_type": "display_data"
    },
    {
     "name": "stdout",
     "output_type": "stream",
     "text": [
      "Sampling method: TomekLinks\n",
      "Accuracy: 0.759\n",
      "F1: 0.621\n",
      "Precision: 0.690\n",
      "Recall: 0.564\n"
     ]
    },
    {
     "data": {
      "image/png": "[encoded data removed]",
      "text/plain": [
       "<Figure size 396x288 with 2 Axes>"
      ]
     },
     "metadata": {
      "needs_background": "light"
     },
     "output_type": "display_data"
    }
   ],
   "source": [
    "# LogisticRegression\n",
    "for sampler in sampling_methods:\n",
    "    # sample\n",
    "    if sampler == None:\n",
    "        X_train_res, y_train_res = X_train.copy(), y_train.copy()\n",
    "    else:\n",
    "        X_train_res, y_train_res = sampler.fit_resample(X_train, y_train)\n",
    "        \n",
    "    grid_param = {\n",
    "        'fit_intercept': [True, False,],\n",
    "        'solver': ['lbfgs', 'liblinear', 'newton-cg', 'newton-cholesky', 'sag', 'saga'],\n",
    "        'C': [10, 1, 0.1, 0.01,]\n",
    "    }\n",
    "    \n",
    "    # create classifier\n",
    "    clf = LogisticRegression()\n",
    "    gs = GridSearchCV(estimator=clf, param_grid=grid_param, cv=5)\n",
    "    gs.fit(X_train_res, y_train_res)\n",
    "    \n",
    "    # predict\n",
    "    y_pred = gs.predict(X_test)\n",
    "    \n",
    "    accuracy, f1, precision, recall = calculate_metrics(y_test, y_pred)\n",
    "    if sampler == None:\n",
    "        print(\"Sampling method: None\")\n",
    "    else:\n",
    "        print(f\"Sampling method: {sampler.__class__.__name__}\")\n",
    "    \n",
    "    print(f\"Accuracy: {accuracy:.3f}\")\n",
    "    print(f\"F1: {f1:.3f}\")\n",
    "    print(f\"Precision: {precision:.3f}\")\n",
    "    print(f\"Recall: {recall:.3f}\")\n",
    "    plot_cf(y_test, y_pred)\n",
    "    \n",
    "    # store results\n",
    "    model_list.append('LR')\n",
    "    sampling_list.append(sampler.__class__.__name__)\n",
    "    accuracy_list.append(accuracy)\n",
    "    f1_list.append(f1)\n",
    "    precision_list.append(precision)\n",
    "    recall_list.append(recall)"
   ]
  },
  {
   "cell_type": "code",
   "execution_count": 26,
   "id": "305a987b",
   "metadata": {},
   "outputs": [
    {
     "name": "stdout",
     "output_type": "stream",
     "text": [
      "Sampling method: None\n",
      "Accuracy: 0.761\n",
      "F1: 0.626\n",
      "Precision: 0.693\n",
      "Recall: 0.571\n"
     ]
    },
    {
     "data": {
      "image/png": "[encoded data removed]",
      "text/plain": [
       "<Figure size 396x288 with 2 Axes>"
      ]
     },
     "metadata": {
      "needs_background": "light"
     },
     "output_type": "display_data"
    },
    {
     "name": "stdout",
     "output_type": "stream",
     "text": [
      "Sampling method: RandomOverSampler\n",
      "Accuracy: 0.741\n",
      "F1: 0.635\n",
      "Precision: 0.627\n",
      "Recall: 0.643\n"
     ]
    },
    {
     "data": {
      "image/png": "[encoded data removed]",
      "text/plain": [
       "<Figure size 396x288 with 2 Axes>"
      ]
     },
     "metadata": {
      "needs_background": "light"
     },
     "output_type": "display_data"
    },
    {
     "name": "stdout",
     "output_type": "stream",
     "text": [
      "Sampling method: SMOTE\n",
      "Accuracy: 0.738\n",
      "F1: 0.629\n",
      "Precision: 0.622\n",
      "Recall: 0.636\n"
     ]
    },
    {
     "data": {
      "image/png": "[encoded data removed]",
      "text/plain": [
       "<Figure size 396x288 with 2 Axes>"
      ]
     },
     "metadata": {
      "needs_background": "light"
     },
     "output_type": "display_data"
    },
    {
     "name": "stdout",
     "output_type": "stream",
     "text": [
      "Sampling method: BorderlineSMOTE\n",
      "Accuracy: 0.719\n",
      "F1: 0.629\n",
      "Precision: 0.584\n",
      "Recall: 0.682\n"
     ]
    },
    {
     "data": {
      "image/png": "[encoded data removed]",
      "text/plain": [
       "<Figure size 396x288 with 2 Axes>"
      ]
     },
     "metadata": {
      "needs_background": "light"
     },
     "output_type": "display_data"
    },
    {
     "name": "stdout",
     "output_type": "stream",
     "text": [
      "Sampling method: RandomUnderSampler\n",
      "Accuracy: 0.714\n",
      "F1: 0.609\n",
      "Precision: 0.584\n",
      "Recall: 0.636\n"
     ]
    },
    {
     "data": {
      "image/png": "[encoded data removed]",
      "text/plain": [
       "<Figure size 396x288 with 2 Axes>"
      ]
     },
     "metadata": {
      "needs_background": "light"
     },
     "output_type": "display_data"
    },
    {
     "name": "stdout",
     "output_type": "stream",
     "text": [
      "Sampling method: NearMiss\n",
      "Accuracy: 0.739\n",
      "F1: 0.642\n",
      "Precision: 0.617\n",
      "Recall: 0.668\n"
     ]
    },
    {
     "data": {
      "image/png": "[encoded data removed]",
      "text/plain": [
       "<Figure size 396x288 with 2 Axes>"
      ]
     },
     "metadata": {
      "needs_background": "light"
     },
     "output_type": "display_data"
    },
    {
     "name": "stdout",
     "output_type": "stream",
     "text": [
      "Sampling method: TomekLinks\n",
      "Accuracy: 0.752\n",
      "F1: 0.619\n",
      "Precision: 0.671\n",
      "Recall: 0.575\n"
     ]
    },
    {
     "data": {
      "image/png": "[encoded data removed]",
      "text/plain": [
       "<Figure size 396x288 with 2 Axes>"
      ]
     },
     "metadata": {
      "needs_background": "light"
     },
     "output_type": "display_data"
    }
   ],
   "source": [
    "# QuadraticDiscriminantAnalysis\n",
    "for sampler in sampling_methods:\n",
    "    # sample\n",
    "    if sampler == None:\n",
    "        X_train_res, y_train_res = X_train.copy(), y_train.copy()\n",
    "    else:\n",
    "        X_train_res, y_train_res = sampler.fit_resample(X_train, y_train)\n",
    "        \n",
    "    grid_param = {\n",
    "        'tol': [0.1, 0.01, 0.001, 0.0001, 0.00001],\n",
    "    }\n",
    "    \n",
    "    # create classifier\n",
    "    clf = QuadraticDiscriminantAnalysis()\n",
    "    gs = GridSearchCV(estimator=clf, param_grid=grid_param, cv=5)\n",
    "    gs.fit(X_train_res, y_train_res)\n",
    "    \n",
    "    # predict\n",
    "    y_pred = gs.predict(X_test)\n",
    "    \n",
    "    accuracy, f1, precision, recall = calculate_metrics(y_test, y_pred)\n",
    "    if sampler == None:\n",
    "        print(\"Sampling method: None\")\n",
    "    else:\n",
    "        print(f\"Sampling method: {sampler.__class__.__name__}\")\n",
    "    \n",
    "    print(f\"Accuracy: {accuracy:.3f}\")\n",
    "    print(f\"F1: {f1:.3f}\")\n",
    "    print(f\"Precision: {precision:.3f}\")\n",
    "    print(f\"Recall: {recall:.3f}\")\n",
    "    plot_cf(y_test, y_pred)\n",
    "    \n",
    "    # store results\n",
    "    model_list.append('QDA')\n",
    "    sampling_list.append(sampler.__class__.__name__)\n",
    "    accuracy_list.append(accuracy)\n",
    "    f1_list.append(f1)\n",
    "    precision_list.append(precision)\n",
    "    recall_list.append(recall)"
   ]
  },
  {
   "cell_type": "code",
   "execution_count": 27,
   "id": "ac224d07",
   "metadata": {},
   "outputs": [
    {
     "data": {
      "text/html": [
       "<div>\n",
       "<style scoped>\n",
       "    .dataframe tbody tr th:only-of-type {\n",
       "        vertical-align: middle;\n",
       "    }\n",
       "\n",
       "    .dataframe tbody tr th {\n",
       "        vertical-align: top;\n",
       "    }\n",
       "\n",
       "    .dataframe thead th {\n",
       "        text-align: right;\n",
       "    }\n",
       "</style>\n",
       "<table border=\"1\" class=\"dataframe\">\n",
       "  <thead>\n",
       "    <tr style=\"text-align: right;\">\n",
       "      <th></th>\n",
       "      <th>Model</th>\n",
       "      <th>Sampling</th>\n",
       "      <th>Accuracy</th>\n",
       "      <th>F1</th>\n",
       "      <th>Precision</th>\n",
       "      <th>Recall_list</th>\n",
       "    </tr>\n",
       "  </thead>\n",
       "  <tbody>\n",
       "    <tr>\n",
       "      <th>0</th>\n",
       "      <td>KNN</td>\n",
       "      <td>NoneType</td>\n",
       "      <td>0.787</td>\n",
       "      <td>0.640</td>\n",
       "      <td>0.786</td>\n",
       "      <td>0.539</td>\n",
       "    </tr>\n",
       "    <tr>\n",
       "      <th>1</th>\n",
       "      <td>KNN</td>\n",
       "      <td>RandomOverSampler</td>\n",
       "      <td>0.691</td>\n",
       "      <td>0.582</td>\n",
       "      <td>0.553</td>\n",
       "      <td>0.614</td>\n",
       "    </tr>\n",
       "    <tr>\n",
       "      <th>2</th>\n",
       "      <td>KNN</td>\n",
       "      <td>SMOTE</td>\n",
       "      <td>0.724</td>\n",
       "      <td>0.632</td>\n",
       "      <td>0.592</td>\n",
       "      <td>0.679</td>\n",
       "    </tr>\n",
       "    <tr>\n",
       "      <th>3</th>\n",
       "      <td>KNN</td>\n",
       "      <td>BorderlineSMOTE</td>\n",
       "      <td>0.698</td>\n",
       "      <td>0.578</td>\n",
       "      <td>0.565</td>\n",
       "      <td>0.593</td>\n",
       "    </tr>\n",
       "    <tr>\n",
       "      <th>4</th>\n",
       "      <td>KNN</td>\n",
       "      <td>RandomUnderSampler</td>\n",
       "      <td>0.751</td>\n",
       "      <td>0.638</td>\n",
       "      <td>0.651</td>\n",
       "      <td>0.625</td>\n",
       "    </tr>\n",
       "    <tr>\n",
       "      <th>5</th>\n",
       "      <td>KNN</td>\n",
       "      <td>NearMiss</td>\n",
       "      <td>0.711</td>\n",
       "      <td>0.544</td>\n",
       "      <td>0.608</td>\n",
       "      <td>0.493</td>\n",
       "    </tr>\n",
       "    <tr>\n",
       "      <th>6</th>\n",
       "      <td>KNN</td>\n",
       "      <td>TomekLinks</td>\n",
       "      <td>0.750</td>\n",
       "      <td>0.595</td>\n",
       "      <td>0.687</td>\n",
       "      <td>0.525</td>\n",
       "    </tr>\n",
       "    <tr>\n",
       "      <th>7</th>\n",
       "      <td>LR</td>\n",
       "      <td>NoneType</td>\n",
       "      <td>0.766</td>\n",
       "      <td>0.625</td>\n",
       "      <td>0.712</td>\n",
       "      <td>0.557</td>\n",
       "    </tr>\n",
       "    <tr>\n",
       "      <th>8</th>\n",
       "      <td>LR</td>\n",
       "      <td>RandomOverSampler</td>\n",
       "      <td>0.714</td>\n",
       "      <td>0.624</td>\n",
       "      <td>0.578</td>\n",
       "      <td>0.679</td>\n",
       "    </tr>\n",
       "    <tr>\n",
       "      <th>9</th>\n",
       "      <td>LR</td>\n",
       "      <td>SMOTE</td>\n",
       "      <td>0.719</td>\n",
       "      <td>0.640</td>\n",
       "      <td>0.580</td>\n",
       "      <td>0.714</td>\n",
       "    </tr>\n",
       "    <tr>\n",
       "      <th>10</th>\n",
       "      <td>LR</td>\n",
       "      <td>BorderlineSMOTE</td>\n",
       "      <td>0.646</td>\n",
       "      <td>0.573</td>\n",
       "      <td>0.496</td>\n",
       "      <td>0.679</td>\n",
       "    </tr>\n",
       "    <tr>\n",
       "      <th>11</th>\n",
       "      <td>LR</td>\n",
       "      <td>RandomUnderSampler</td>\n",
       "      <td>0.694</td>\n",
       "      <td>0.587</td>\n",
       "      <td>0.556</td>\n",
       "      <td>0.621</td>\n",
       "    </tr>\n",
       "    <tr>\n",
       "      <th>12</th>\n",
       "      <td>LR</td>\n",
       "      <td>NearMiss</td>\n",
       "      <td>0.685</td>\n",
       "      <td>0.599</td>\n",
       "      <td>0.540</td>\n",
       "      <td>0.671</td>\n",
       "    </tr>\n",
       "    <tr>\n",
       "      <th>13</th>\n",
       "      <td>LR</td>\n",
       "      <td>TomekLinks</td>\n",
       "      <td>0.759</td>\n",
       "      <td>0.621</td>\n",
       "      <td>0.690</td>\n",
       "      <td>0.564</td>\n",
       "    </tr>\n",
       "    <tr>\n",
       "      <th>14</th>\n",
       "      <td>QDA</td>\n",
       "      <td>NoneType</td>\n",
       "      <td>0.761</td>\n",
       "      <td>0.626</td>\n",
       "      <td>0.693</td>\n",
       "      <td>0.571</td>\n",
       "    </tr>\n",
       "    <tr>\n",
       "      <th>15</th>\n",
       "      <td>QDA</td>\n",
       "      <td>RandomOverSampler</td>\n",
       "      <td>0.741</td>\n",
       "      <td>0.635</td>\n",
       "      <td>0.627</td>\n",
       "      <td>0.643</td>\n",
       "    </tr>\n",
       "    <tr>\n",
       "      <th>16</th>\n",
       "      <td>QDA</td>\n",
       "      <td>SMOTE</td>\n",
       "      <td>0.738</td>\n",
       "      <td>0.629</td>\n",
       "      <td>0.622</td>\n",
       "      <td>0.636</td>\n",
       "    </tr>\n",
       "    <tr>\n",
       "      <th>17</th>\n",
       "      <td>QDA</td>\n",
       "      <td>BorderlineSMOTE</td>\n",
       "      <td>0.719</td>\n",
       "      <td>0.629</td>\n",
       "      <td>0.584</td>\n",
       "      <td>0.682</td>\n",
       "    </tr>\n",
       "    <tr>\n",
       "      <th>18</th>\n",
       "      <td>QDA</td>\n",
       "      <td>RandomUnderSampler</td>\n",
       "      <td>0.714</td>\n",
       "      <td>0.609</td>\n",
       "      <td>0.584</td>\n",
       "      <td>0.636</td>\n",
       "    </tr>\n",
       "    <tr>\n",
       "      <th>19</th>\n",
       "      <td>QDA</td>\n",
       "      <td>NearMiss</td>\n",
       "      <td>0.739</td>\n",
       "      <td>0.642</td>\n",
       "      <td>0.617</td>\n",
       "      <td>0.668</td>\n",
       "    </tr>\n",
       "    <tr>\n",
       "      <th>20</th>\n",
       "      <td>QDA</td>\n",
       "      <td>TomekLinks</td>\n",
       "      <td>0.752</td>\n",
       "      <td>0.619</td>\n",
       "      <td>0.671</td>\n",
       "      <td>0.575</td>\n",
       "    </tr>\n",
       "  </tbody>\n",
       "</table>\n",
       "</div>"
      ],
      "text/plain": [
       "   Model            Sampling  Accuracy    F1  Precision  Recall_list\n",
       "0    KNN            NoneType     0.787 0.640      0.786        0.539\n",
       "1    KNN   RandomOverSampler     0.691 0.582      0.553        0.614\n",
       "2    KNN               SMOTE     0.724 0.632      0.592        0.679\n",
       "3    KNN     BorderlineSMOTE     0.698 0.578      0.565        0.593\n",
       "4    KNN  RandomUnderSampler     0.751 0.638      0.651        0.625\n",
       "5    KNN            NearMiss     0.711 0.544      0.608        0.493\n",
       "6    KNN          TomekLinks     0.750 0.595      0.687        0.525\n",
       "7     LR            NoneType     0.766 0.625      0.712        0.557\n",
       "8     LR   RandomOverSampler     0.714 0.624      0.578        0.679\n",
       "9     LR               SMOTE     0.719 0.640      0.580        0.714\n",
       "10    LR     BorderlineSMOTE     0.646 0.573      0.496        0.679\n",
       "11    LR  RandomUnderSampler     0.694 0.587      0.556        0.621\n",
       "12    LR            NearMiss     0.685 0.599      0.540        0.671\n",
       "13    LR          TomekLinks     0.759 0.621      0.690        0.564\n",
       "14   QDA            NoneType     0.761 0.626      0.693        0.571\n",
       "15   QDA   RandomOverSampler     0.741 0.635      0.627        0.643\n",
       "16   QDA               SMOTE     0.738 0.629      0.622        0.636\n",
       "17   QDA     BorderlineSMOTE     0.719 0.629      0.584        0.682\n",
       "18   QDA  RandomUnderSampler     0.714 0.609      0.584        0.636\n",
       "19   QDA            NearMiss     0.739 0.642      0.617        0.668\n",
       "20   QDA          TomekLinks     0.752 0.619      0.671        0.575"
      ]
     },
     "execution_count": 27,
     "metadata": {},
     "output_type": "execute_result"
    }
   ],
   "source": [
    "results = pd.DataFrame({\n",
    "    'Model': model_list,\n",
    "    'Sampling': sampling_list,\n",
    "    'Accuracy': accuracy_list,\n",
    "    'F1': f1_list,\n",
    "    'Precision': precision_list,\n",
    "    'Recall_list': recall_list,\n",
    "})\n",
    "\n",
    "results"
   ]
  },
  {
   "cell_type": "code",
   "execution_count": null,
   "id": "247d7d1a",
   "metadata": {},
   "outputs": [],
   "source": []
  }
 ],
 "metadata": {
  "kernelspec": {
   "display_name": "Python 3 (ipykernel)",
   "language": "python",
   "name": "python3"
  },
  "language_info": {
   "codemirror_mode": {
    "name": "ipython",
    "version": 3
   },
   "file_extension": ".py",
   "mimetype": "text/x-python",
   "name": "python",
   "nbconvert_exporter": "python",
   "pygments_lexer": "ipython3",
   "version": "3.9.12"
  }
 },
 "nbformat": 4,
 "nbformat_minor": 5
}
